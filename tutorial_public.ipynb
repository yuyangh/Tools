{
  "nbformat": 4,
  "nbformat_minor": 0,
  "metadata": {
    "colab": {
      "name": "tutorial_public.ipynb",
      "version": "0.3.2",
      "provenance": [],
      "toc_visible": true
    },
    "kernelspec": {
      "display_name": "Python 3",
      "language": "python",
      "name": "python3"
    }
  },
  "cells": [
    {
      "metadata": {
        "colab_type": "text",
        "id": "F5HVtHKWLGTj"
      },
      "cell_type": "markdown",
      "source": [
        "# SCP uploading and downloading"
      ]
    },
    {
      "metadata": {
        "colab_type": "text",
        "id": "0CU-cnEVLMQA"
      },
      "cell_type": "markdown",
      "source": [
        "* go to server:\n",
        "     * type in terminal or command line \n",
        "     * ssh username@ip_address\n",
        "\n",
        "* download file instruction:\n",
        "    * scp username@servername:/path/filename /Users/mac/Desktop (local path)\n",
        "\n",
        "* upload file instruction:\n",
        "    * scp /path/filename username@servername:/path\n",
        "\n",
        "* download folder instruction:\n",
        "    * scp -r username@servername:/root/ (remote folder path) /Users/mac/Desktop (local path)\n",
        "\n",
        "* upload folder instruction:\n",
        "    * scp -r local_dir username@servername:remote_dir\n",
        "\n",
        "\n"
      ]
    },
    {
      "metadata": {
        "colab_type": "text",
        "id": "GImp2PcqL877"
      },
      "cell_type": "markdown",
      "source": [
        "# [YOLO](https://pjreddie.com/darknet/yolo/): Real-Time Object Detection "
      ]
    },
    {
      "metadata": {
        "colab_type": "text",
        "id": "Sdxp6LICMw5D"
      },
      "cell_type": "markdown",
      "source": [
        "## YOLO training preparation"
      ]
    },
    {
      "metadata": {
        "colab_type": "text",
        "id": "eyF-heZpM4O4"
      },
      "cell_type": "markdown",
      "source": [
        "*   generate labels and images\n",
        "    * put all .jpg/.jpeg images in folder called \"JPEGimages\"\n",
        "    * put all .txt labels in folder called \"labels\"\n",
        "      * json to yolo format can reference this [json2yolo.py](https://github.com/yuyangh/Tools/blob/master/json2yolo.py)\n",
        "    * \"JPEGimages\" and \"labels\" should be in the same directory\n",
        "*   create test/train split\n",
        "    * YOLO does not use validation part in training\n",
        "\n",
        "\n",
        "\n",
        "\n",
        "\n"
      ]
    },
    {
      "metadata": {
        "colab_type": "text",
        "id": "UcloYCC0W028"
      },
      "cell_type": "markdown",
      "source": [
        "**Code modification**\n",
        "* modify Makefile\n",
        "    * GPU=1 to support GPU\n",
        "    * CUDNN=1 to support CUDA\n",
        "    * OpenCV = 0, only when image needs OpenCV's support, then open OpenCV\n",
        "*  modify model file /cfg/yolov3.cfg \n",
        "      * batch = number of samples in 1 batch\n",
        "      * subdivisions = xxx means divide 1 batch to xxx subdivisions to load into GPU. \n",
        "        * Fewer subdivisions require less video memory and train slower\n",
        "      * if image size is smaller than yolov3's default size, \n",
        "        * change width=416, height=416 so that model size is smaller than image size\n",
        "      * max_batches = XXX, max_batches is the maximum iterations going to be trained\n",
        "        * value depend on batch size: Ideally, our model expect to train up to 200-300 epoch.\n",
        "        * iterations = num_epoch * (num_images/batch_size)\n",
        "        * e.g. num_epoch = 200, batch_size = 64, num_images = 8862, iterations = 200 * (8862/64) ~ 30k iterations\n",
        "      * for all yolo layers, change classes & filters\n",
        "        * classes = number of classes you have in dataset\n",
        "        * filters = (classes +5) * 3 because 5 includes object ID and bounding box\n",
        "      * e.g. for yolov3, there are 3 yolo layers\n",
        "*   modify cfg/xxx.data (similar to coco.data)\n",
        "      * specify where your data is\n",
        "      * backup= folder where you would like to backup, usually there is already a folder in /darknet/\n",
        "      * eval=coco, this is the evaluation method, since we are not using that, comment this line\n",
        "*  modify  data/xxx.names (similar to data/coco.names)\n",
        "*  modify examples/detector.c\n",
        "      * add find_replace(labelpath,\".jpeg\",\".txt\", labelpath); to support .jpeg images:\n",
        "      * examples/detectors.c, on line 138, i%NUM, NUM is how frequently saved\n",
        "* any update in .c files need to type **\"make\"** in darknet/ to update"
      ]
    },
    {
      "metadata": {
        "colab_type": "text",
        "id": "YPtUP_TpXYMk"
      },
      "cell_type": "markdown",
      "source": [
        "**Start training with command: **\n",
        "* make sure nobody is using that GPU before training\n",
        "\n",
        "```\n",
        "./darknet detector train cfg/flir_adas.data cfg/yolov3.cfg darknet53.conv.74 -gpus 0 &> train_output.txt\n",
        "```\n",
        "\n",
        "paramerters: \n",
        "*   cfg/yolov3.cfg is the model file\n",
        "*   darknet53.conv.74 is pre-trained weights with specific choosen layers\n",
        "*   -gpus 0 is choose which GPU to do training\n"
      ]
    },
    {
      "metadata": {
        "colab_type": "text",
        "id": "w9ll5gMQZ625"
      },
      "cell_type": "markdown",
      "source": [
        "## YOLO training process parameter meaning"
      ]
    },
    {
      "metadata": {
        "colab_type": "text",
        "id": "VU0frA2hZ_qX"
      },
      "cell_type": "markdown",
      "source": [
        "* Region Avg IOU: \n",
        "  * average IOU represen the percent of intersection over union of predicted bounding box and ground truth. \n",
        "  * we expect it to approximate 1\n",
        "* Class:\n",
        "  * the probability to be the labeled object\n",
        "  * we expect it to approximate 1\n",
        "* Obj:\n",
        "  * we expect it be approximate 1\n",
        "* No Obj:\n",
        "  * expect value should be decreasing but not 0\n",
        "* Avg Recall\n",
        "  * expect value approximate 0\n",
        "* avg：\n",
        "  * average loss, expect it be 0"
      ]
    },
    {
      "metadata": {
        "colab_type": "text",
        "id": "AvQrD0_H7ivy"
      },
      "cell_type": "markdown",
      "source": [
        "## YOLO performance evaluation"
      ]
    },
    {
      "metadata": {
        "colab_type": "text",
        "id": "Knfy7xb97s_H"
      },
      "cell_type": "markdown",
      "source": [
        "*   modify examples/Detector.c to do validation\n",
        "    * in validate_detector_recall() function:  \n",
        "    * modify threshold:  float thresh = .25;  \n",
        "    * change validation path around line 496  \n",
        "      * list *plist = get_paths(\"/mnt/large4t/pengchong_data/Data/Paul/filelist/val.txt\");\n",
        "    * add precision measurement  \n",
        "      * fprintf(stderr, \"ID:%5d Correct:%5d Total:%5d\\tRPs/Img: %.2f\\tIOU: %.2f%%\\tRecall:%.2f%%\\t\", i, correct, total, (float)proposals/(i+1), avg_iou*100/total, 100.*correct/total);  \n",
        "      * fprintf(stderr, \"proposals:%5d\\tPrecision:%.2f%%\\n\",proposals,100.*correct/(float)proposals);   \n",
        "* start evaluation\n",
        "  * provided in validation.sh\n",
        "  * ./darknet detector recall cfg/flir_adas.data cfg/yolov3.cfg backup/yolov3_final.weights -gpus 0 &> validation_output.txt\n",
        "* measure mAP\n",
        "  * \n",
        "     \n",
        "\n",
        "\n"
      ]
    },
    {
      "metadata": {
        "colab_type": "text",
        "id": "ZXWdHYaMFnqF"
      },
      "cell_type": "markdown",
      "source": [
        "## YOLO single image detection"
      ]
    },
    {
      "metadata": {
        "colab_type": "text",
        "id": "X1r7BIB6Frao"
      },
      "cell_type": "markdown",
      "source": [
        "* detection command\n",
        "  * ./darknet detect cfg/yolov3.cfg backup/yolov3_final.weights ../FLIR_ADAS/validation/PreviewData/FLIR_08863.jpeg  \n",
        "* download prediction image  \n",
        "  * scp server_path:/data/projects/FireSpotter/darknet/predictions.jpg \"E:\\markh\\Downloads\"  "
      ]
    },
    {
      "metadata": {
        "colab_type": "text",
        "id": "Wbm-mIiUS_ZF"
      },
      "cell_type": "markdown",
      "source": [
        "# Server Command"
      ]
    },
    {
      "metadata": {
        "colab_type": "text",
        "id": "TV3IyPxtUo9e"
      },
      "cell_type": "markdown",
      "source": [
        "## Screening"
      ]
    },
    {
      "metadata": {
        "colab_type": "text",
        "id": "-NGQElS-U2Hn"
      },
      "cell_type": "markdown",
      "source": [
        "* Why we use this? \n",
        "  * When our laptop goes to sleep or turns off, the connection to the server will be closed and session will be lost.  \n",
        "  * To let the server save the connection, we need screening.\n",
        "---\n",
        "* Command\n",
        "  * screen -S \"name\": attach to screen with \"name\"\n",
        "  * screen -dr \"name\": switch back to command line\n",
        "  * screen -ls: ls all screens\n",
        "  * control A + control D: leave screen\n",
        "  * exit: exit screen\n",
        "\n"
      ]
    },
    {
      "metadata": {
        "colab_type": "text",
        "id": "KU46k4OMUlQ8"
      },
      "cell_type": "markdown",
      "source": [
        "## Nvidia GPU"
      ]
    },
    {
      "metadata": {
        "colab_type": "text",
        "id": "4rWrO2iMTWFb"
      },
      "cell_type": "markdown",
      "source": [
        "* see GPU info: nvidia-smi\n",
        "* watch GPU info: watch nvidia-smi"
      ]
    },
    {
      "metadata": {
        "colab_type": "text",
        "id": "6M4azB_1CaYe"
      },
      "cell_type": "markdown",
      "source": [
        "# Install ubuntu on PC"
      ]
    },
    {
      "metadata": {
        "colab_type": "text",
        "id": "cJsrVfOi8ICV"
      },
      "cell_type": "markdown",
      "source": [
        "## preparation\n",
        "\n",
        "\n",
        "\n",
        "\n",
        "\n",
        "\n"
      ]
    },
    {
      "metadata": {
        "colab_type": "text",
        "id": "r7rESrZEEEGu"
      },
      "cell_type": "markdown",
      "source": [
        "* an empty hard disk with over 128 GB for the Linux system\n",
        "* download ubantu operating system\n",
        "    * recommend using  [ubuntu LTS version]( https://www.ubuntu.com/download/desktop )\n",
        "    * choose -amd64.iso if your computer is 64 bits system\n",
        "* have an empty flash driver with at least 4 GB space\n",
        "    * remember to backup files\n",
        "* use [rufus](https://rufus.ie/) to write the Linux operating system into the flash driver\n",
        "    * in partition scheme, choose UEFI if your mother board supports UEFI, otherwise, choose MBR\n",
        "        * UEFI will make the system opens faster\n",
        "    * here is how to do the format\n",
        "    * NOTICE: once start formating, all contents in the flash driver will be erased\n",
        "* ![alt text](https://rufus.ie/pics/rufus_en.png)"
      ]
    },
    {
      "metadata": {
        "colab_type": "text",
        "id": "gbcYJbOLCLVu"
      },
      "cell_type": "markdown",
      "source": [
        "## install the ubuntu system\n",
        "\n",
        "\n"
      ]
    },
    {
      "metadata": {
        "colab_type": "text",
        "id": "VXJwhVC1EZna"
      },
      "cell_type": "markdown",
      "source": [
        "*   go into the BIOS\n",
        "    * depends on different brands, might be ESC, F2, F10, or 12\n",
        "    * press one of those buttions many times after pressing the power on button\n",
        "* BIOS set up\n",
        "    * TURN OFF the secure boot!!!\n",
        "    * this is very important, otherwise graphics driver may not install succcessful later\n",
        "    * choose UEFI BIOS if your flash driver is in UEFI mode\n",
        "    * put flash driver as the first one in boot order"
      ]
    },
    {
      "metadata": {
        "colab_type": "text",
        "id": "fVTxeLMaTCQO"
      },
      "cell_type": "markdown",
      "source": [
        "# Vim Commands"
      ]
    },
    {
      "metadata": {
        "colab_type": "text",
        "id": "2QKOzIvdTGS0"
      },
      "cell_type": "markdown",
      "source": [
        "*   search: /\n",
        "*   search next: n\n",
        "*   undo: u\n",
        "* go the end of file: shift+G"
      ]
    }
  ]
}